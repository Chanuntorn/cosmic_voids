{
 "cells": [
  {
   "cell_type": "markdown",
   "id": "84d14c63-2ad0-4aaf-9800-ebaf71582dc1",
   "metadata": {},
   "source": [
    "## Playing around with VIDE"
   ]
  },
  {
   "cell_type": "code",
   "execution_count": 7,
   "id": "3b031789-ba8d-4767-9894-5b44df2dd9f0",
   "metadata": {},
   "outputs": [],
   "source": [
    "import os, sys, shutil, pdb\n",
    "import vide\n",
    "import numpy as np\n",
    "import healpy as hp"
   ]
  },
  {
   "cell_type": "markdown",
   "id": "3582573b-e89c-4502-82d6-1a1dcd633b31",
   "metadata": {},
   "source": [
    "Temporarily adding local check-out to path."
   ]
  },
  {
   "cell_type": "code",
   "execution_count": 21,
   "id": "3061d166-8542-4f64-90c7-1c7f98441580",
   "metadata": {},
   "outputs": [],
   "source": [
    "repodir = '/global/homes/c/chanun/cosmic_voids/py'\n",
    "sys.path.append(repodir)\n",
    "#sys.path"
   ]
  },
  {
   "cell_type": "code",
   "execution_count": 12,
   "id": "c08c00b6-0742-46b0-99fa-e272bd571c87",
   "metadata": {},
   "outputs": [],
   "source": [
    "from cosmic_voids import plotting"
   ]
  },
  {
   "cell_type": "code",
   "execution_count": 13,
   "id": "b1a6921c-53a0-4ad9-9c78-3d401710d580",
   "metadata": {},
   "outputs": [],
   "source": [
    "import matplotlib.pyplot as plt\n",
    "import seaborn as sns\n",
    "%matplotlib inline"
   ]
  },
  {
   "cell_type": "code",
   "execution_count": null,
   "id": "4faacf4a-8af8-4dee-b2ce-935c1c32044d",
   "metadata": {},
   "outputs": [],
   "source": [
    "def vide_prepare_example_sim(outdir, continueRun=False, startCatalogStage=1,\n",
    "                             endCatalogStage=3, regenerateFlag=False,\n",
    "                             mergingThreshold=1e-9):\n",
    "    \"\"\"\n",
    "    continueRun - set to True to enable restarting aborted jobs  \n",
    "\n",
    "    \"\"\"\n",
    "    from vide.backend.classes import Sample\n",
    "    \n",
    "    dataSampleList = []\n",
    "\n",
    "    setName = \"sim_ss1.0\"\n",
    "\n",
    "    workDir = \"/global/u2/c/chanun/examples/example_simulation//sim_ss1.0/\"\n",
    "    inputDataDir = \"/global/u2/c/chanun/examples/\"\n",
    "    figDir = \"/global/u2/c/chanun/figs/example_simulation//sim_ss1.0/\"\n",
    "    logDir = \"/global/u2/c/chanun/logs/example_simulation//sim_ss1.0/\"\n",
    "\n",
    "    numZobovDivisions = 2\n",
    "    numZobovThreads = 2\n",
    "\n",
    "    newSample = Sample(dataFile = \"example_simulation_z0.0.dat\",\n",
    "                       dataFormat = \"multidark\",\n",
    "                       dataUnit = 1,\n",
    "                       fullName = \"sim_ss1.0_z0.00_d00\",\n",
    "                       nickName = \" SS 1.0, z = 0.00\",\n",
    "                       dataType = \"simulation\",\n",
    "                       zBoundary = (0.00, 0.36),\n",
    "                       zRange    = (0.00, 0.36),\n",
    "                       zBoundaryMpc = (0.00, 999.98),\n",
    "                       shiftSimZ = False,\n",
    "                       omegaM    = 0.2847979853038958,\n",
    "                       minVoidRadius = 1,\n",
    "                       profileBinSize = \"auto\",\n",
    "                       includeInHubble = True,\n",
    "                       partOfCombo = False,\n",
    "                       boxLen = 999.983,\n",
    "                       usePecVel = False,\n",
    "                       numSubvolumes = 1,\n",
    "                       mySubvolume = \"00\",\n",
    "                       useLightCone = False,\n",
    "                       subsample = \"1.0\")\n",
    "    dataSampleList.append(newSample)"
   ]
  },
  {
   "cell_type": "code",
   "execution_count": 42,
   "id": "0db3d945-0fe9-4eec-9a4e-923a911b13d8",
   "metadata": {},
   "outputs": [
    {
     "data": {
      "text/plain": [
       "'/usr/local/lib/python3.8/dist-packages/vide-2.0-py3.8-linux-x86_64.egg/void_pipeline/__init__.py'"
      ]
     },
     "execution_count": 42,
     "metadata": {},
     "output_type": "execute_result"
    }
   ],
   "source": [
    "import void_pipeline\n",
    "void_pipeline.__file__"
   ]
  },
  {
   "cell_type": "code",
   "execution_count": 43,
   "id": "6a933d2d-35f6-4dd7-9671-ab5db1aa1ac3",
   "metadata": {},
   "outputs": [
    {
     "name": "stdout",
     "output_type": "stream",
     "text": [
      "Help on class Sample in module vide.backend.classes:\n",
      "\n",
      "class Sample(builtins.object)\n",
      " |  Sample(dataFile='', fullName='', dataUnit=1, nickName='', maskFile='', selFunFile='', zBoundary=(), zRange=(), zBoundaryMpc=(), shiftSimZ=False, minVoidRadius=-1, fakeDensity=0.01, volumeLimited=True, numAPSlices=1, includeInHubble=True, partOfCombo=False, isCombo=False, comboList=(), profileBinSize=2.0, boxLen=1024, usePecVel=False, omegaM=0.27, numSubvolumes=1, mySubvolume=1, dataFormat='sdss', useComoving=True, dataType='observation', subsample=1.0, useLightCone=False, autoNumInStack=-1, autoPartInStack=-1)\n",
      " |  \n",
      " |  Methods defined here:\n",
      " |  \n",
      " |  __init__(self, dataFile='', fullName='', dataUnit=1, nickName='', maskFile='', selFunFile='', zBoundary=(), zRange=(), zBoundaryMpc=(), shiftSimZ=False, minVoidRadius=-1, fakeDensity=0.01, volumeLimited=True, numAPSlices=1, includeInHubble=True, partOfCombo=False, isCombo=False, comboList=(), profileBinSize=2.0, boxLen=1024, usePecVel=False, omegaM=0.27, numSubvolumes=1, mySubvolume=1, dataFormat='sdss', useComoving=True, dataType='observation', subsample=1.0, useLightCone=False, autoNumInStack=-1, autoPartInStack=-1)\n",
      " |      Initialize self.  See help(type(self)) for accurate signature.\n",
      " |  \n",
      " |  addStack(self, zMin, zMax, rMin, rMax, includeInHubble, partOfCombo, zMinPlot=None, needProfile=True, rescaleMode='rmax', maxVoids=-1, fittingMode='mcmc')\n",
      " |  \n",
      " |  getHubbleStacks(self)\n",
      " |  \n",
      " |  getUniqueRBins(self)\n",
      " |  \n",
      " |  getUniqueZBins(self)\n",
      " |  \n",
      " |  ----------------------------------------------------------------------\n",
      " |  Data descriptors defined here:\n",
      " |  \n",
      " |  __dict__\n",
      " |      dictionary for instance variables (if defined)\n",
      " |  \n",
      " |  __weakref__\n",
      " |      list of weak references to the object (if defined)\n",
      " |  \n",
      " |  ----------------------------------------------------------------------\n",
      " |  Data and other attributes defined here:\n",
      " |  \n",
      " |  autoNumInStack = -1\n",
      " |  \n",
      " |  autoPartInStack = -1\n",
      " |  \n",
      " |  boxLen = 1024\n",
      " |  \n",
      " |  comboList = []\n",
      " |  \n",
      " |  dataFile = 'lss.dr72dim.dat'\n",
      " |  \n",
      " |  dataFormat = 'sdss'\n",
      " |  \n",
      " |  dataType = 'observation'\n",
      " |  \n",
      " |  dataUnit = 1\n",
      " |  \n",
      " |  fakeDensity = 0.01\n",
      " |  \n",
      " |  fullName = 'lss.dr72dim.dat'\n",
      " |  \n",
      " |  includeInHubble = True\n",
      " |  \n",
      " |  isCombo = False\n",
      " |  \n",
      " |  maskFile = 'rast_window_512.fits'\n",
      " |  \n",
      " |  minVoidRadius = -1\n",
      " |  \n",
      " |  mySubvolume = 1\n",
      " |  \n",
      " |  nickName = 'dim'\n",
      " |  \n",
      " |  numAPSlices = 1\n",
      " |  \n",
      " |  numSubvolumes = 1\n",
      " |  \n",
      " |  omegaM = 0.27\n",
      " |  \n",
      " |  partOfCombo = False\n",
      " |  \n",
      " |  profileBinSize = 2\n",
      " |  \n",
      " |  selFunFile = 'czselfunc.all.dr72dim.dat'\n",
      " |  \n",
      " |  shiftSimZ = False\n",
      " |  \n",
      " |  stacks = []\n",
      " |  \n",
      " |  subsample = 1.0\n",
      " |  \n",
      " |  usePecVel = False\n",
      " |  \n",
      " |  volumeLimited = True\n",
      " |  \n",
      " |  zBoundary = (0.0, 0.1)\n",
      " |  \n",
      " |  zBoundaryMpc = (0.0, 300)\n",
      " |  \n",
      " |  zRange = (0.0, 0.1)\n",
      " |  \n",
      " |  zobovDir = ''\n",
      "\n"
     ]
    }
   ],
   "source": [
    "#from vide.backend.classes import Sample\n",
    "from vide.backend import generateCatalog\n"
   ]
  },
  {
   "cell_type": "markdown",
   "id": "cbc84776-6955-4dbd-acc8-a6061ffc701d",
   "metadata": {},
   "source": [
    "### Test Example Simulation\n",
    "\n",
    "1. mkdir vide_test\n",
    "2. cp vide_public/python_tools/void_pipeline/datasets/example_simulation.py vide_test/ \n",
    "3. mkdir vide_test/examples\n",
    "4. cp vide_public/examples/example_simulation_z0.0.dat vide_test/examples\n",
    "5. cd $HOME/vide_test \n",
    "6. vide_prepare_simulation --all --parm example_simulation.py \n",
    "7. python3 -m void_pipeline example_simulation/sim_ss1.0.py "
   ]
  },
  {
   "cell_type": "code",
   "execution_count": 29,
   "id": "773f7612-268d-4769-af8c-de8dd1a15e8c",
   "metadata": {},
   "outputs": [
    {
     "data": {
      "text/plain": [
       "'/global/cscratch1/sd/chanun/vide-example-sim'"
      ]
     },
     "execution_count": 29,
     "metadata": {},
     "output_type": "execute_result"
    }
   ],
   "source": [
    "simdir = os.path.join(os.environ.get('SCRATCH'), 'vide-example-sim')\n",
    "if not os.path.isdir(simdir):# or True:\n",
    "    os.makedirs(simdir, exist_ok=True)\n",
    "    shutil.copy(os.path.join(repodir, 'cosmic_voids', 'example_simulation.py'), simdir+'/')\n",
    "simdir"
   ]
  },
  {
   "cell_type": "code",
   "execution_count": 36,
   "id": "f23ba89d-bf2a-4e12-8d11-4e401b475fac",
   "metadata": {},
   "outputs": [
    {
     "name": "stdout",
     "output_type": "stream",
     "text": [
      "usage: vide_prepare_simulation [-h] [--scripts] [--subsamples] [--halos]\n",
      "                               [--hod] [--all] [--parm PARM]\n",
      "\n",
      "options\n",
      "\n",
      "optional arguments:\n",
      "  -h, --help    show this help message and exit\n",
      "  --scripts     write scripts\n",
      "  --subsamples  write subsamples\n",
      "  --halos       write halos\n",
      "  --hod         write hod\n",
      "  --all         write everything\n",
      "  --parm PARM   path to parameter file\n"
     ]
    }
   ],
   "source": [
    "!vide_prepare_simulation --help"
   ]
  },
  {
   "cell_type": "code",
   "execution_count": 33,
   "id": "61760949-d10b-442d-9207-4785fd60431b",
   "metadata": {},
   "outputs": [
    {
     "name": "stdout",
     "output_type": "stream",
     "text": [
      " Loading parameters from /global/cscratch1/sd/chanun/vide-example-sim/example_simulation.py\n",
      " Doing subsample 1.0 scripts\n",
      " Done!\n"
     ]
    }
   ],
   "source": [
    "#print(os.path.join(simdir, 'example_simulation.py'))\n",
    "!vide_prepare_simulation --all --parm /global/cscratch1/sd/chanun/vide-example-sim/example_simulation.py"
   ]
  },
  {
   "cell_type": "code",
   "execution_count": 34,
   "id": "adb89add-e0f0-47d5-af45-824d13c6e3de",
   "metadata": {},
   "outputs": [
    {
     "name": "stdout",
     "output_type": "stream",
     "text": [
      "/global/u2/c/chanun\n"
     ]
    }
   ],
   "source": []
  },
  {
   "cell_type": "markdown",
   "id": "d024d84e-3913-4e2e-a4a2-2646c60baee9",
   "metadata": {},
   "source": [
    "## SDSS ##"
   ]
  },
  {
   "cell_type": "code",
   "execution_count": 49,
   "id": "24af0e99-1285-47b7-a692-80beaccb5dcc",
   "metadata": {},
   "outputs": [
    {
     "name": "stdout",
     "output_type": "stream",
     "text": [
      "Help on function loadVoidCatalog in module vide.voidUtil.catalogUtil:\n",
      "\n",
      "loadVoidCatalog(sampleDir, dataPortion='central', loadParticles=True, untrimmed=False)\n",
      "    # -----------------------------------------------------------------------------\n",
      "\n"
     ]
    }
   ],
   "source": [
    "from vide import loadVoidCatalog\n",
    "help(loadVoidCatalog)"
   ]
  },
  {
   "cell_type": "code",
   "execution_count": 44,
   "id": "5f28e962-8066-4cf6-b2b3-60e8a2ca133c",
   "metadata": {},
   "outputs": [
    {
     "ename": "ModuleNotFoundError",
     "evalue": "No module named 'void_python_tools'",
     "output_type": "error",
     "traceback": [
      "\u001b[0;31m---------------------------------------------------------------------------\u001b[0m",
      "\u001b[0;31mModuleNotFoundError\u001b[0m                       Traceback (most recent call last)",
      "\u001b[0;32m<ipython-input-44-011615c3ae9d>\u001b[0m in \u001b[0;36m<module>\u001b[0;34m\u001b[0m\n\u001b[1;32m      1\u001b[0m \u001b[0mtpath\u001b[0m \u001b[0;34m=\u001b[0m \u001b[0;34m'/global/cscratch1/sd/chanun/void_catalog_2015.03.31/mock1024/mt_halos_minnone/sample_mt_halos_minnone_z0.00_d00'\u001b[0m\u001b[0;34m\u001b[0m\u001b[0;34m\u001b[0m\u001b[0m\n\u001b[0;32m----> 2\u001b[0;31m \u001b[0mtestcenuntrim\u001b[0m \u001b[0;34m=\u001b[0m \u001b[0mvide\u001b[0m\u001b[0;34m.\u001b[0m\u001b[0mloadVoidCatalog\u001b[0m\u001b[0;34m(\u001b[0m\u001b[0mtpath\u001b[0m\u001b[0;34m,\u001b[0m \u001b[0mdataPortion\u001b[0m\u001b[0;34m=\u001b[0m\u001b[0;34m\"central\"\u001b[0m\u001b[0;34m,\u001b[0m \u001b[0mloadParticles\u001b[0m\u001b[0;34m=\u001b[0m\u001b[0;32mTrue\u001b[0m\u001b[0;34m,\u001b[0m\u001b[0muntrimmed\u001b[0m\u001b[0;34m=\u001b[0m\u001b[0;32mTrue\u001b[0m\u001b[0;34m)\u001b[0m\u001b[0;34m\u001b[0m\u001b[0;34m\u001b[0m\u001b[0m\n\u001b[0m",
      "\u001b[0;32m/usr/local/lib/python3.8/dist-packages/vide-2.0-py3.8-linux-x86_64.egg/vide/voidUtil/catalogUtil.py\u001b[0m in \u001b[0;36mloadVoidCatalog\u001b[0;34m(sampleDir, dataPortion, loadParticles, untrimmed)\u001b[0m\n\u001b[1;32m    311\u001b[0m   \u001b[0mcatalog\u001b[0m \u001b[0;34m=\u001b[0m \u001b[0mCatalog\u001b[0m\u001b[0;34m(\u001b[0m\u001b[0;34m)\u001b[0m\u001b[0;34m\u001b[0m\u001b[0;34m\u001b[0m\u001b[0m\n\u001b[1;32m    312\u001b[0m   \u001b[0;32mwith\u001b[0m \u001b[0mopen\u001b[0m\u001b[0;34m(\u001b[0m\u001b[0msampleDir\u001b[0m\u001b[0;34m+\u001b[0m\u001b[0;34m\"/sample_info.dat\"\u001b[0m\u001b[0;34m,\u001b[0m \u001b[0;34m'rb'\u001b[0m\u001b[0;34m)\u001b[0m \u001b[0;32mas\u001b[0m \u001b[0minput\u001b[0m\u001b[0;34m:\u001b[0m\u001b[0;34m\u001b[0m\u001b[0;34m\u001b[0m\u001b[0m\n\u001b[0;32m--> 313\u001b[0;31m     \u001b[0msample\u001b[0m \u001b[0;34m=\u001b[0m \u001b[0mpickle\u001b[0m\u001b[0;34m.\u001b[0m\u001b[0mload\u001b[0m\u001b[0;34m(\u001b[0m\u001b[0minput\u001b[0m\u001b[0;34m)\u001b[0m\u001b[0;34m\u001b[0m\u001b[0;34m\u001b[0m\u001b[0m\n\u001b[0m\u001b[1;32m    314\u001b[0m   \u001b[0mcatalog\u001b[0m\u001b[0;34m.\u001b[0m\u001b[0msampleInfo\u001b[0m \u001b[0;34m=\u001b[0m \u001b[0msample\u001b[0m\u001b[0;34m\u001b[0m\u001b[0;34m\u001b[0m\u001b[0m\n\u001b[1;32m    315\u001b[0m \u001b[0;34m\u001b[0m\u001b[0m\n",
      "\u001b[0;31mModuleNotFoundError\u001b[0m: No module named 'void_python_tools'"
     ]
    }
   ],
   "source": [
    "tpath = '/global/cscratch1/sd/chanun/void_catalog_2015.03.31/mock1024/mt_halos_minnone/sample_mt_halos_minnone_z0.00_d00'\n",
    "testcenuntrim = vide.loadVoidCatalog(tpath, dataPortion=\"central\", loadParticles=True,untrimmed=True)"
   ]
  },
  {
   "cell_type": "code",
   "execution_count": 50,
   "id": "0233b1d0-584e-49ac-898a-de4f32884989",
   "metadata": {},
   "outputs": [
    {
     "ename": "ModuleNotFoundError",
     "evalue": "No module named 'void_python_tools'",
     "output_type": "error",
     "traceback": [
      "\u001b[0;31m---------------------------------------------------------------------------\u001b[0m",
      "\u001b[0;31mModuleNotFoundError\u001b[0m                       Traceback (most recent call last)",
      "\u001b[0;32m<ipython-input-50-2ec82dbfa52c>\u001b[0m in \u001b[0;36m<module>\u001b[0;34m\u001b[0m\n\u001b[1;32m      1\u001b[0m \u001b[0;32mimport\u001b[0m \u001b[0mpickle\u001b[0m\u001b[0;34m\u001b[0m\u001b[0;34m\u001b[0m\u001b[0m\n\u001b[1;32m      2\u001b[0m \u001b[0;32mwith\u001b[0m \u001b[0mopen\u001b[0m\u001b[0;34m(\u001b[0m\u001b[0mtpath\u001b[0m\u001b[0;34m+\u001b[0m\u001b[0;34m\"/sample_info.dat\"\u001b[0m\u001b[0;34m,\u001b[0m \u001b[0;34m'rb'\u001b[0m\u001b[0;34m)\u001b[0m \u001b[0;32mas\u001b[0m \u001b[0minput\u001b[0m\u001b[0;34m:\u001b[0m\u001b[0;34m\u001b[0m\u001b[0;34m\u001b[0m\u001b[0m\n\u001b[0;32m----> 3\u001b[0;31m     \u001b[0msample\u001b[0m \u001b[0;34m=\u001b[0m \u001b[0mpickle\u001b[0m\u001b[0;34m.\u001b[0m\u001b[0mload\u001b[0m\u001b[0;34m(\u001b[0m\u001b[0minput\u001b[0m\u001b[0;34m)\u001b[0m\u001b[0;34m\u001b[0m\u001b[0;34m\u001b[0m\u001b[0m\n\u001b[0m",
      "\u001b[0;31mModuleNotFoundError\u001b[0m: No module named 'void_python_tools'"
     ]
    }
   ],
   "source": [
    "import pickle\n",
    "with open(tpath+\"/sample_info.dat\", 'rb') as input:\n",
    "    sample = pickle.load(input)\n"
   ]
  },
  {
   "cell_type": "markdown",
   "id": "9ca66d5c-35fc-43e8-8c3f-54f12b6a83f4",
   "metadata": {
    "jp-MarkdownHeadingCollapsed": true,
    "tags": []
   },
   "source": [
    "## MISC ##"
   ]
  },
  {
   "cell_type": "code",
   "execution_count": 12,
   "id": "4a6aacbc-be4a-4d14-9527-bedf0015e6bd",
   "metadata": {},
   "outputs": [],
   "source": [
    "path2 = '/global/cscratch1/sd/chanun/void_catalog_2015.03.31/figures'\n",
    "datafile = os.path.join(path2, \"fig5_all.dat\")\n",
    "test = np.loadtxt(datafile)"
   ]
  },
  {
   "cell_type": "code",
   "execution_count": 28,
   "id": "eeff1870-954d-41b5-b54b-d7f4b821f95d",
   "metadata": {},
   "outputs": [
    {
     "data": {
      "text/plain": [
       "9.814815"
      ]
     },
     "execution_count": 28,
     "metadata": {},
     "output_type": "execute_result"
    }
   ],
   "source": [
    "test[1][0]"
   ]
  },
  {
   "cell_type": "code",
   "execution_count": 29,
   "id": "a31f3af1-dcf9-44ed-9531-a156ef15fcfd",
   "metadata": {},
   "outputs": [],
   "source": [
    "radius = []\n",
    "\n",
    "for i in range(len(test)): radius.append(test[i][0])"
   ]
  },
  {
   "cell_type": "code",
   "execution_count": 32,
   "id": "24048785-deeb-4a37-9c15-96120f5202b8",
   "metadata": {},
   "outputs": [
    {
     "data": {
      "image/png": "[encoded data removed]",
      "text/plain": [
       "<Figure size 432x288 with 1 Axes>"
      ]
     },
     "metadata": {
      "needs_background": "light"
     },
     "output_type": "display_data"
    }
   ],
   "source": [
    "plt.hist(radius);"
   ]
  },
  {
   "cell_type": "code",
   "execution_count": 39,
   "id": "87d6df91-c098-437c-93fc-49451222133a",
   "metadata": {},
   "outputs": [
    {
     "name": "stdout",
     "output_type": "stream",
     "text": [
      "/global/u2\n",
      "/global\n"
     ]
    }
   ],
   "source": [
    "%cd ..\n",
    "%cd .."
   ]
  },
  {
   "cell_type": "code",
   "execution_count": 40,
   "id": "74669baa-1260-410f-9d7d-2ef19e92bc21",
   "metadata": {},
   "outputs": [
    {
     "name": "stdout",
     "output_type": "stream",
     "text": [
      "/global\n"
     ]
    }
   ],
   "source": [
    "!pwd"
   ]
  },
  {
   "cell_type": "code",
   "execution_count": 43,
   "id": "ce6b42ee-00fc-4f49-970c-034a6b379be4",
   "metadata": {},
   "outputs": [],
   "source": [
    "tpath = 'cscratch1/sd/chanun/void_catalog_2015.03.31/lanl/lanl_halos_minnone_pv/sample_lanl_halos_minnone_pv_z0.53_d00'"
   ]
  },
  {
   "cell_type": "code",
   "execution_count": null,
   "id": "9403126e-9618-4764-aecd-cca983e0cd99",
   "metadata": {},
   "outputs": [],
   "source": [
    "#'/global/cscratch1/sd/chanun/void_catalog_2015.03.31/lanl/lanl_halos_minnone_pv/lanl_halos_minnone_pv_z0.53_d00'"
   ]
  },
  {
   "cell_type": "code",
   "execution_count": 48,
   "id": "6de5ccf5-8be7-4945-b1bb-9bb2b932255e",
   "metadata": {},
   "outputs": [
    {
     "ename": "ModuleNotFoundError",
     "evalue": "No module named 'void_python_tools'",
     "output_type": "error",
     "traceback": [
      "\u001b[0;31m---------------------------------------------------------------------------\u001b[0m",
      "\u001b[0;31mModuleNotFoundError\u001b[0m                       Traceback (most recent call last)",
      "\u001b[0;32m<ipython-input-48-85bf982b8dd0>\u001b[0m in \u001b[0;36m<module>\u001b[0;34m\u001b[0m\n\u001b[0;32m----> 1\u001b[0;31m \u001b[0mtestcenuntrim\u001b[0m \u001b[0;34m=\u001b[0m \u001b[0mvide\u001b[0m\u001b[0;34m.\u001b[0m\u001b[0mloadVoidCatalog\u001b[0m\u001b[0;34m(\u001b[0m\u001b[0mtpath\u001b[0m\u001b[0;34m,\u001b[0m \u001b[0mdataPortion\u001b[0m\u001b[0;34m=\u001b[0m\u001b[0;34m\"central\"\u001b[0m\u001b[0;34m,\u001b[0m \u001b[0mloadParticles\u001b[0m\u001b[0;34m=\u001b[0m\u001b[0;32mTrue\u001b[0m\u001b[0;34m,\u001b[0m\u001b[0muntrimmed\u001b[0m\u001b[0;34m=\u001b[0m\u001b[0;32mTrue\u001b[0m\u001b[0;34m)\u001b[0m\u001b[0;34m\u001b[0m\u001b[0;34m\u001b[0m\u001b[0m\n\u001b[0m",
      "\u001b[0;32m/usr/local/lib/python3.8/dist-packages/vide-2.0-py3.8-linux-x86_64.egg/vide/voidUtil/catalogUtil.py\u001b[0m in \u001b[0;36mloadVoidCatalog\u001b[0;34m(sampleDir, dataPortion, loadParticles, untrimmed)\u001b[0m\n\u001b[1;32m    311\u001b[0m   \u001b[0mcatalog\u001b[0m \u001b[0;34m=\u001b[0m \u001b[0mCatalog\u001b[0m\u001b[0;34m(\u001b[0m\u001b[0;34m)\u001b[0m\u001b[0;34m\u001b[0m\u001b[0;34m\u001b[0m\u001b[0m\n\u001b[1;32m    312\u001b[0m   \u001b[0;32mwith\u001b[0m \u001b[0mopen\u001b[0m\u001b[0;34m(\u001b[0m\u001b[0msampleDir\u001b[0m\u001b[0;34m+\u001b[0m\u001b[0;34m\"/sample_info.dat\"\u001b[0m\u001b[0;34m,\u001b[0m \u001b[0;34m'rb'\u001b[0m\u001b[0;34m)\u001b[0m \u001b[0;32mas\u001b[0m \u001b[0minput\u001b[0m\u001b[0;34m:\u001b[0m\u001b[0;34m\u001b[0m\u001b[0;34m\u001b[0m\u001b[0m\n\u001b[0;32m--> 313\u001b[0;31m     \u001b[0msample\u001b[0m \u001b[0;34m=\u001b[0m \u001b[0mpickle\u001b[0m\u001b[0;34m.\u001b[0m\u001b[0mload\u001b[0m\u001b[0;34m(\u001b[0m\u001b[0minput\u001b[0m\u001b[0;34m)\u001b[0m\u001b[0;34m\u001b[0m\u001b[0;34m\u001b[0m\u001b[0m\n\u001b[0m\u001b[1;32m    314\u001b[0m   \u001b[0mcatalog\u001b[0m\u001b[0;34m.\u001b[0m\u001b[0msampleInfo\u001b[0m \u001b[0;34m=\u001b[0m \u001b[0msample\u001b[0m\u001b[0;34m\u001b[0m\u001b[0;34m\u001b[0m\u001b[0m\n\u001b[1;32m    315\u001b[0m \u001b[0;34m\u001b[0m\u001b[0m\n",
      "\u001b[0;31mModuleNotFoundError\u001b[0m: No module named 'void_python_tools'"
     ]
    }
   ],
   "source": [
    "testcenuntrim = vide.loadVoidCatalog(tpath, dataPortion=\"central\", loadParticles=True,untrimmed=True)"
   ]
  },
  {
   "cell_type": "code",
   "execution_count": 33,
   "id": "4d2a594c-0a8e-483d-94e7-a0b80f6a4ca0",
   "metadata": {},
   "outputs": [
    {
     "data": {
      "text/plain": [
       "[5.0,\n",
       " 9.814815,\n",
       " 14.62963,\n",
       " 19.444444,\n",
       " 24.259259,\n",
       " 29.074074,\n",
       " 33.888889,\n",
       " 38.703704,\n",
       " 43.518519,\n",
       " 48.333333,\n",
       " 53.148148,\n",
       " 57.962963,\n",
       " 62.777778,\n",
       " 67.592593,\n",
       " 72.407407,\n",
       " 77.222222,\n",
       " 82.037037,\n",
       " 86.851852,\n",
       " 91.666667,\n",
       " 96.481481,\n",
       " 101.296296,\n",
       " 106.111111,\n",
       " 110.925926,\n",
       " 115.740741,\n",
       " 120.555556,\n",
       " 125.37037,\n",
       " 130.185185]"
      ]
     },
     "execution_count": 33,
     "metadata": {},
     "output_type": "execute_result"
    }
   ],
   "source": [
    "radius"
   ]
  },
  {
   "cell_type": "code",
   "execution_count": 2,
   "id": "6f2a2d6d-da36-4ea7-89f8-725236c3a992",
   "metadata": {},
   "outputs": [],
   "source": [
    "#the path where the simulation data is located; VIDE outputs\n",
    "path = '/global/homes/c/chanun/sandbox2021/vide_public/vide_test/examples/example_simulation/sim_ss1.0/sample_sim_ss1.0_z0.00_d00'\n",
    "#path for figures\n",
    "figpath = '/global/homes/c/chanun/sandbox2021/vide_public/vide_test/figs'"
   ]
  },
  {
   "cell_type": "code",
   "execution_count": 3,
   "id": "93dd9dca-44d8-473f-8505-f67bf04adf32",
   "metadata": {},
   "outputs": [
    {
     "name": "stdout",
     "output_type": "stream",
     "text": [
      "Loading info...\n",
      "Loading voids...\n",
      "Read 2202 voids\n",
      "Loading macrocenters...\n",
      "Loading derived void information...\n",
      "Loading all particles...\n",
      "    Loading particle data...\n",
      "Loading volumes...\n",
      "Loading zone-void membership info...\n",
      "Loading particle-zone membership info...\n"
     ]
    }
   ],
   "source": [
    "#We can get these catalogs by using the following function. \n",
    "#given: directory, central or all, load particle info, untrimmed/trimmed\n",
    "cen_trim = vide.loadVoidCatalog(path, dataPortion=\"central\", loadParticles=True,untrimmed=False)\n",
    "#all_trim = vide.loadVoidCatalog(path, dataPortion=\"all\", loadParticles=True,untrimmed=False)"
   ]
  },
  {
   "cell_type": "code",
   "execution_count": 5,
   "id": "a377d5e2-4587-4c1f-8820-a2445db940eb",
   "metadata": {},
   "outputs": [
    {
     "data": {
      "text/plain": [
       "2202"
      ]
     },
     "execution_count": 5,
     "metadata": {},
     "output_type": "execute_result"
    }
   ],
   "source": [
    "#number of voids, 0 for all_trim ??\n",
    "len(cen_trim.voids)"
   ]
  },
  {
   "cell_type": "code",
   "execution_count": 4,
   "id": "6ad6efc7-4ca2-46d0-9ebe-6e5a1b2273f6",
   "metadata": {},
   "outputs": [
    {
     "name": "stdout",
     "output_type": "stream",
     "text": [
      "Loading info...\n",
      "Loading voids...\n",
      "Read 3061 voids\n",
      "Loading macrocenters...\n",
      "Loading derived void information...\n",
      "Loading all particles...\n",
      "    Loading particle data...\n",
      "Loading volumes...\n",
      "Loading zone-void membership info...\n",
      "Loading particle-zone membership info...\n"
     ]
    }
   ],
   "source": [
    "#if untrimmed is True then catalog contains all voids \n",
    "cen_untrim = vide.loadVoidCatalog(path, dataPortion=\"central\", loadParticles=True,untrimmed=True)\n",
    "#all_untrim =vide.loadVoidCatalog(path, dataPortion=\"all\", loadParticles=True,untrimmed=True)"
   ]
  },
  {
   "cell_type": "code",
   "execution_count": 7,
   "id": "56990ba6-24da-40ce-81c6-8b7ad75daebc",
   "metadata": {},
   "outputs": [
    {
     "data": {
      "text/plain": [
       "3061"
      ]
     },
     "execution_count": 7,
     "metadata": {},
     "output_type": "execute_result"
    }
   ],
   "source": [
    "#3061 for both\n",
    "len(cen_untrim.voids)"
   ]
  },
  {
   "cell_type": "code",
   "execution_count": 11,
   "id": "207052dd-60a9-4fe0-85f5-69e4eb3fa367",
   "metadata": {},
   "outputs": [],
   "source": [
    "vlist = [cen_trim,cen_untrim]"
   ]
  },
  {
   "cell_type": "code",
   "execution_count": 65,
   "id": "2f60204d-d55d-4cf3-bc57-2c933fdefc81",
   "metadata": {},
   "outputs": [
    {
     "name": "stdout",
     "output_type": "stream",
     "text": [
      "Plotting ellipticity distributions\n"
     ]
    },
    {
     "name": "stderr",
     "output_type": "stream",
     "text": [
      "The PostScript backend does not support transparency; partially transparent artists will be rendered opaque.\n",
      "The PostScript backend does not support transparency; partially transparent artists will be rendered opaque.\n"
     ]
    },
    {
     "data": {
      "image/png": "[encoded data removed]",
      "text/plain": [
       "<Figure size 432x288 with 1 Axes>"
      ]
     },
     "metadata": {
      "needs_background": "light"
     },
     "output_type": "display_data"
    }
   ],
   "source": [
    "#plots ellipticity distributions\n",
    "\n",
    "vide.plotEllipDist(vlist,figDir=figpath,plotName='ellipdist')"
   ]
  },
  {
   "cell_type": "code",
   "execution_count": 67,
   "id": "00bbde5b-f0c7-4e20-b1bb-a68adf856d01",
   "metadata": {},
   "outputs": [
    {
     "name": "stdout",
     "output_type": "stream",
     "text": [
      "Plotting ellipticity distributions\n"
     ]
    },
    {
     "name": "stderr",
     "output_type": "stream",
     "text": [
      "The PostScript backend does not support transparency; partially transparent artists will be rendered opaque.\n",
      "The PostScript backend does not support transparency; partially transparent artists will be rendered opaque.\n"
     ]
    },
    {
     "data": {
      "image/png": "[encoded data removed]",
      "text/plain": [
       "<Figure size 432x288 with 1 Axes>"
      ]
     },
     "metadata": {
      "needs_background": "light"
     },
     "output_type": "display_data"
    }
   ],
   "source": [
    "#plots ellipticity distributions\n",
    "# doesn't need to be a list\n",
    "vide.plotEllipDist(cen_trim,figDir=figpath,plotName='test')\n",
    "#y: dataHist: first return from np.histogram, the y-values of a histogram (how many of each element is there)"
   ]
  },
  {
   "cell_type": "code",
   "execution_count": 3,
   "id": "9d17dc71-a6f3-438f-88f2-6115543ae7f2",
   "metadata": {},
   "outputs": [
    {
     "name": "stdout",
     "output_type": "stream",
     "text": [
      "[array([1, 2]), array([3, 6, 7])] [3 6 7] <class 'list'>\n"
     ]
    }
   ],
   "source": [
    "#converts to array of at least 1D\n",
    "\n",
    "a = np.atleast_1d([1,2],[3,6,7])\n",
    "print(a,a[1],type(a))"
   ]
  },
  {
   "cell_type": "code",
   "execution_count": 4,
   "id": "15070616-3b5a-4c9b-b89d-df874017549d",
   "metadata": {},
   "outputs": [
    {
     "name": "stdout",
     "output_type": "stream",
     "text": [
      "(0, array([1, 2]))\n",
      "(1, array([3, 6, 7]))\n"
     ]
    }
   ],
   "source": [
    "#indexed list \n",
    "#enumerate?\n",
    "for i in enumerate(a):\n",
    "    print(i)"
   ]
  },
  {
   "cell_type": "code",
   "execution_count": 6,
   "id": "1d1519e2-9a6b-4c47-b0b7-17bd17111c4a",
   "metadata": {},
   "outputs": [
    {
     "name": "stdout",
     "output_type": "stream",
     "text": [
      "(0, 4)\n",
      "(1, 5)\n"
     ]
    }
   ],
   "source": [
    "b = [4,5]\n",
    "for i in enumerate(b):\n",
    "    print(i)"
   ]
  },
  {
   "cell_type": "code",
   "execution_count": 28,
   "id": "788694d9-f0fc-4e4d-a72a-898d4d9c03c0",
   "metadata": {},
   "outputs": [],
   "source": [
    "#return an array of ones with the same shape and type as a given array.\n",
    "#np.ones_like?"
   ]
  },
  {
   "cell_type": "code",
   "execution_count": 1,
   "id": "4f692668-57e5-4a18-96a0-6bbfedf65fc6",
   "metadata": {},
   "outputs": [],
   "source": [
    "#plot particles of a void, voids are in blue overlayed in blue circles\n",
    "#vide.plotVoidCells(cen_trim,28,figDir=figpath)\n",
    "\n",
    "#bg particles binned, density in log scale, 0 white and 1.5 black\n",
    "#circles are void galaxies "
   ]
  },
  {
   "cell_type": "code",
   "execution_count": 6,
   "id": "2a0079be-f163-4367-8a65-b32ecdf3eab6",
   "metadata": {},
   "outputs": [],
   "source": [
    "b = np.array([0.,0.00804261,0.01608523, 0.02412784, 0.03217046, 0.04021307,\n",
    " 0.04825568, 0.0562983,  0.06434091, 0.07238353, 0.08042614, 0.08846875,\n",
    " 0.09651137, 0.10455398, 0.11259659, 0.12063921, 0.12868182, 0.13672444,\n",
    " 0.14476705, 0.15280966, 0.16085228, 0.16889489, 0.17693751, 0.18498012,\n",
    " 0.19302273, 0.20106535, 0.20910796, 0.21715058, 0.22519319, 0.2332358,\n",
    " 0.24127842, 0.24932103, 0.25736365, 0.26540626, 0.27344887, 0.28149149,\n",
    " 0.2895341 , 0.29757671, 0.30561933, 0.31366194, 0.32170456 ,0.32974717,\n",
    " 0.33778978, 0.3458324 , 0.35387501, 0.36191763, 0.36996024 ,0.37800285,\n",
    " 0.38604547, 0.39408808, 0.4021307,  0.41017331, 0.41821592 ,0.42625854,\n",
    " 0.43430115, 0.44234377, 0.45038638, 0.45842899, 0.46647161, 0.47451422,\n",
    " 0.48255684, 0.49059945, 0.49864206, 0.50668468, 0.51472729, 0.5227699,\n",
    " 0.53081252, 0.53885513, 0.54689775, 0.55494036, 0.56298297 ,0.57102559,\n",
    " 0.5790682 , 0.58711082, 0.59515343, 0.60319604, 0.61123866 ,0.61928127,\n",
    " 0.62732389, 0.6353665 , 0.64340911, 0.65145173, 0.65949434 ,0.66753696,\n",
    " 0.67557957, 0.68362218 ,0.6916648,  0.69970741, 0.70775002 ,0.71579264,\n",
    " 0.72383525, 0.73187787, 0.73992048, 0.74796309, 0.75600571, 0.76404832,\n",
    " 0.77209094, 0.78013355, 0.78817616, 0.79621878, 0.80426139])"
   ]
  },
  {
   "cell_type": "code",
   "execution_count": null,
   "id": "4741a409-08b7-43c4-b71a-ff6a4ddb405f",
   "metadata": {},
   "outputs": [],
   "source": []
  },
  {
   "cell_type": "code",
   "execution_count": null,
   "id": "9f225feb-7e25-4986-a1a9-f16de2d2288a",
   "metadata": {},
   "outputs": [],
   "source": []
  }
 ],
 "metadata": {
  "kernelspec": {
   "display_name": "docker: cosmic voids",
   "language": "python",
   "name": "cosmicvoids"
  },
  "language_info": {
   "codemirror_mode": {
    "name": "ipython",
    "version": 3
   },
   "file_extension": ".py",
   "mimetype": "text/x-python",
   "name": "python",
   "nbconvert_exporter": "python",
   "pygments_lexer": "ipython3",
   "version": "3.8.5"
  }
 },
 "nbformat": 4,
 "nbformat_minor": 5
}
