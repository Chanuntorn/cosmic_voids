{
 "cells": [
  {
   "cell_type": "code",
   "execution_count": 2,
   "id": "3a6ddda5-db11-43ee-be3a-ccbe466e7649",
   "metadata": {},
   "outputs": [],
   "source": [
    "import os\n",
    "import vide\n",
    "import numpy as np\n",
    "import matplotlib.pyplot as plt\n",
    "import healpy as hp\n",
    "%matplotlib inline"
   ]
  },
  {
   "cell_type": "code",
   "execution_count": 4,
   "id": "db2b960e-fe84-4a79-a29a-b7d93c4b851d",
   "metadata": {},
   "outputs": [
    {
     "name": "stdout",
     "output_type": "stream",
     "text": [
      "/global/u2/c/chanun/cosmic_voids\n",
      "/global/u2/c/chanun\n",
      "/global/u2/c/chanun/cosmic_voids/testing_unitsims\n"
     ]
    }
   ],
   "source": [
    "!pwd\n",
    "%cd .. \n",
    "%cd cosmic_voids/testing_unitsims"
   ]
  },
  {
   "cell_type": "code",
   "execution_count": 7,
   "id": "612fef3f-447a-4f6e-9ac2-9a964d946b2e",
   "metadata": {},
   "outputs": [
    {
     "name": "stdout",
     "output_type": "stream",
     "text": [
      " Loading parameters from testparams.py\n",
      " Doing subsample 1.0 scripts\n",
      " Done!\n"
     ]
    }
   ],
   "source": [
    "#!vide_prepare_simulation --all --parm testparams.py \n",
    "#sim parameters"
   ]
  },
  {
   "cell_type": "code",
   "execution_count": 6,
   "id": "adc84d7d-a5e0-4acd-96c8-3c1b9a4c4bbc",
   "metadata": {},
   "outputs": [],
   "source": [
    "#!python3 -m void_pipeline testoutputs/scripts/test_ss1.0.py\n",
    "#missing our own version of example_simulation_z0.0.dat\n",
    "#Search of the named module and runs the corresponding .py file as a script.\n",
    "#the top few numbers appear to be the simulation paramteres. im not sure what the rest is"
   ]
  },
  {
   "cell_type": "code",
   "execution_count": null,
   "id": "ced54a77-c2bd-4b0d-9e04-899903b817fb",
   "metadata": {},
   "outputs": [],
   "source": []
  }
 ],
 "metadata": {
  "kernelspec": {
   "display_name": "docker: cosmic voids",
   "language": "python",
   "name": "cosmicvoids"
  },
  "language_info": {
   "codemirror_mode": {
    "name": "ipython",
    "version": 3
   },
   "file_extension": ".py",
   "mimetype": "text/x-python",
   "name": "python",
   "nbconvert_exporter": "python",
   "pygments_lexer": "ipython3",
   "version": "3.8.5"
  }
 },
 "nbformat": 4,
 "nbformat_minor": 5
}
